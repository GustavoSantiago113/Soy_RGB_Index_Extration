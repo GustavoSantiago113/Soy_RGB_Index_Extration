{
 "cells": [
  {
   "cell_type": "markdown",
   "metadata": {},
   "source": [
    "# Algorithm for segmentation and index extraction"
   ]
  },
  {
   "cell_type": "markdown",
   "metadata": {},
   "source": [
    "## Image segmentation"
   ]
  },
  {
   "cell_type": "code",
   "execution_count": null,
   "metadata": {},
   "outputs": [],
   "source": [
    "import cv2\n",
    "import numpy as np\n",
    "import pandas as pd\n",
    "import os"
   ]
  },
  {
   "cell_type": "code",
   "execution_count": null,
   "metadata": {},
   "outputs": [],
   "source": [
    "lista_imagens = []\n",
    "indices = []\n",
    "\n",
    "factor = 0.75\n",
    "\n",
    "img_number = 1\n",
    "for root, dirs, files in os.walk(\"./../ImagesanMap/1Amostragem\"):\n",
    "    for name in files:    \n",
    "        path = os.path.join(root, name)\n",
    "        img = cv2.imread(path)\n",
    "        lista_imagens.append(img)\n",
    "        scale_percent = 50 # percent of original size\n",
    "        width = int(img.shape[1] * scale_percent / 100)\n",
    "        height = int(img.shape[0] * scale_percent / 100)\n",
    "        dim = (width, height)\n",
    "        imagem = cv2.resize(img, dim, interpolation = cv2.INTER_AREA)\n",
    "        linhas, colunas, _ = imagem.shape\n",
    "        for k in range(linhas):\n",
    "            for n in range(colunas):\n",
    "                fator = factor*imagem[k,n,1]\n",
    "                if fator < imagem[k,n,2]:\n",
    "                    imagem[[k],[n]] = 0\n",
    "                else:\n",
    "                    imagem[[k],[n]] = imagem[[k],[n]]\n",
    "        B, G, R = cv2.split(imagem) \n",
    "        meanG = np.mean(G, axis=None) \n",
    "        meanR = np.mean(R, axis=None)\n",
    "        meanB = np.mean(B, axis=None)\n",
    "        mean1G = meanG/255\n",
    "        mean1R = meanR/255\n",
    "        mean1B = meanB/255\n",
    "        if max(meanG,meanR, meanB) == meanR:\n",
    "            H = 60*((mean1G-mean1B)/(max(mean1R,mean1G,mean1B)-min(mean1R,mean1G,mean1B)))  if (max(mean1R,mean1G,mean1B)-min(mean1R,mean1G,mean1B)) != 0 else 0\n",
    "        if max(meanG,meanR, meanB) == meanG:\n",
    "            H = 60*(2+((mean1B-mean1R)/(max(mean1R,mean1G,mean1B)-min(mean1R,mean1G,mean1B))))  if (max(mean1R,mean1G,mean1B)-min(mean1R,mean1G,mean1B)) != 0 else 0\n",
    "        if max(meanG,meanR, meanB) == meanB:\n",
    "              H = 60*(4+((mean1R-mean1G)/(max(mean1G,mean1R, mean1B)-min(mean1G,mean1R, mean1B))))  if (max(mean1G,mean1R, mean1B)-min(mean1G,mean1R, mean1B)) != 0 else 0\n",
    "        S = (max(mean1G,mean1R, mean1B)-min(mean1G,mean1R, mean1B))/max(mean1G,mean1R, mean1B)  if (max(mean1G,mean1R, mean1B)-min(mean1G,mean1R, mean1B)) != 0 else 0\n",
    "        V = max(mean1G,mean1R, mean1B)\n",
    "        MPRI = (meanG - meanR)/(meanG + meanR) \n",
    "        Gn = (meanG)/(meanG + meanR + meanB) \n",
    "        Rn = (meanR)/(meanG + meanR + meanB) \n",
    "        Bn = (meanB)/(meanG + meanR + meanB)\n",
    "        ICVE = ((H - 60)/60 + (1-S)+(1-V))/3\n",
    "        res = [Rn, Gn, Bn, MPRI, H, S, V, ICVE]\n",
    "        indices.append(res)\n",
    "        img_number += 1\n",
    "       \n",
    "df = pd.DataFrame(indices, columns = ['Rn', 'Gn', 'Bn', 'MPRI', 'H', 'S', 'V', 'ICVE'])\n",
    "df.index = df.index + 1\n",
    "\n",
    "#Exporting to CSV\n",
    "\n",
    "cvs_file = df.to_csv(\"C:/Users/gusta/Desktop/USP (dia 10 não tem boleto)/Iniciações/Reflectância/1 coleta.csv\")"
   ]
  }
 ],
 "metadata": {
  "kernelspec": {
   "display_name": "Python 3",
   "language": "python",
   "name": "python3"
  },
  "language_info": {
   "codemirror_mode": {
    "name": "ipython",
    "version": 3
   },
   "file_extension": ".py",
   "mimetype": "text/x-python",
   "name": "python",
   "nbconvert_exporter": "python",
   "pygments_lexer": "ipython3",
   "version": "3.9.12"
  },
  "orig_nbformat": 4
 },
 "nbformat": 4,
 "nbformat_minor": 2
}
